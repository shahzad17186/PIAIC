{
 "cells": [
  {
   "cell_type": "markdown",
   "metadata": {},
   "source": [
    "# Topic\n",
    "- Class\n",
    "- instance\n",
    "- Method\n",
    "- Attributes/properties\n",
    "- class variable\n",
    "- instance variable\n",
    "- inheritance\n",
    "- encupsolation\n",
    "- Abstraction\n",
    "- Ploymorphisim"
   ]
  },
  {
   "cell_type": "markdown",
   "metadata": {},
   "source": [
    "# Linear Programming"
   ]
  },
  {
   "cell_type": "code",
   "execution_count": 4,
   "metadata": {},
   "outputs": [
    {
     "name": "stdout",
     "output_type": "stream",
     "text": [
      "Hamza Asif\n"
     ]
    }
   ],
   "source": [
    "s1name = \"Ali\"\n",
    "s1fname = \"Hamza\"\n",
    "s1id = 1\n",
    "def s1login():pass\n",
    "def s1logout():pass\n",
    "def s1quiz_attemp():pass\n",
    "\n",
    "s2name = \"Kashif\"\n",
    "s2fname= \"Asif\"\n",
    "s2id = 2\n",
    "def s2login():pass\n",
    "def s2logout():pass\n",
    "def s2quiz_attemp():pass\n",
    "\n",
    "print(s1fname, s2fname)"
   ]
  },
  {
   "cell_type": "code",
   "execution_count": null,
   "metadata": {},
   "outputs": [],
   "source": [
    "# OOP"
   ]
  },
  {
   "cell_type": "code",
   "execution_count": 10,
   "metadata": {},
   "outputs": [],
   "source": [
    "class Student():\n",
    "    def __init__(self, sid):\n",
    "        self.sid = sid\n",
    "        self.name = \"\"\n",
    "        self.fname = \"\"\n",
    "        self.course = \"\"\n",
    "        self.fee = 0\n",
    "        \n",
    "    def login(self):\n",
    "        pass\n",
    "    \n",
    "    def logout(self):\n",
    "        pass\n",
    "    \n",
    "    def quiz_attemp(self):\n",
    "        pass\n",
    "    \n",
    "    def attendance_mark(self):\n",
    "        pass\n",
    "    \n",
    "\n",
    "        \n",
    "        \n",
    "\n",
    "s1 = Student(1)\n",
    "s2 = Student(2)\n",
    "s3 = Student(100)"
   ]
  },
  {
   "cell_type": "code",
   "execution_count": 8,
   "metadata": {},
   "outputs": [
    {
     "name": "stdout",
     "output_type": "stream",
     "text": [
      "\n",
      "\n",
      "\n"
     ]
    }
   ],
   "source": [
    "print(s1.name,s2.name,s3.name, sep=\"\\n\")"
   ]
  },
  {
   "cell_type": "code",
   "execution_count": 9,
   "metadata": {},
   "outputs": [
    {
     "name": "stdout",
     "output_type": "stream",
     "text": [
      "Ali\n",
      "Konain\n",
      "Hamza\n"
     ]
    }
   ],
   "source": [
    "s1.name = \"Ali\"\n",
    "s3.name = \"Hamza\"\n",
    "s2.name = \"Konain\"\n",
    "\n",
    "print(s1.name,s2.name,s3.name, sep=\"\\n\")"
   ]
  },
  {
   "cell_type": "code",
   "execution_count": 11,
   "metadata": {},
   "outputs": [
    {
     "name": "stdout",
     "output_type": "stream",
     "text": [
      "1\n",
      "2\n",
      "100\n"
     ]
    }
   ],
   "source": [
    "class Student():\n",
    "    def __init__(this, sid):\n",
    "        this.sid = sid\n",
    "        this.name = \"\"\n",
    "        this.fname = \"\"\n",
    "        this.course = \"\"\n",
    "        this.fee = 0\n",
    "        \n",
    "    def login(this):\n",
    "        pass\n",
    "    \n",
    "    def logout(this):\n",
    "        pass\n",
    "    \n",
    "    def quiz_attemp(this):\n",
    "        pass\n",
    "    \n",
    "    def attendance_mark(this):\n",
    "        pass\n",
    "        \n",
    "\n",
    "s1 = Student(1)\n",
    "s2 = Student(2)\n",
    "s3 = Student(100)\n",
    "\n",
    "print(s1.sid, s2.sid, s3.sid, sep=\"\\n\")"
   ]
  },
  {
   "cell_type": "code",
   "execution_count": 12,
   "metadata": {},
   "outputs": [
    {
     "name": "stdout",
     "output_type": "stream",
     "text": [
      "1\n",
      "2\n",
      "100\n"
     ]
    }
   ],
   "source": [
    "class Student():\n",
    "    def __init__(abc, sid):\n",
    "        abc.sid = sid\n",
    "        abc.name = \"\"\n",
    "        abc.fname = \"\"\n",
    "        abc.course = \"\"\n",
    "        abc.fee = 0\n",
    "        \n",
    "    def login(abc):\n",
    "        pass\n",
    "    \n",
    "    def logout(abc):\n",
    "        pass\n",
    "    \n",
    "    def quiz_attemp(abc):\n",
    "        pass\n",
    "    \n",
    "    def attendance_mark(abc):\n",
    "        pass\n",
    "        \n",
    "\n",
    "s1 = Student(1)\n",
    "s2 = Student(2)\n",
    "s3 = Student(100)\n",
    "\n",
    "print(s1.sid, s2.sid, s3.sid, sep=\"\\n\")"
   ]
  },
  {
   "cell_type": "markdown",
   "metadata": {},
   "source": [
    "# Class Variable"
   ]
  },
  {
   "cell_type": "code",
   "execution_count": 31,
   "metadata": {},
   "outputs": [
    {
     "data": {
      "text/plain": [
       "3"
      ]
     },
     "execution_count": 31,
     "metadata": {},
     "output_type": "execute_result"
    }
   ],
   "source": [
    "class Student(): # Class Name\n",
    "    \n",
    "    counter = 0 # Class Variable\n",
    "    \n",
    "    def __init__(self, sid):\n",
    "        self.sid = sid # Attributes/properties/field/DataMember\n",
    "        self.name = \"\"\n",
    "        self.fname = \"\"\n",
    "        self.course = \"\"\n",
    "        self.fee = 0 # Attributes/properties/field/DataMember\n",
    "        self.user=\"abc\"\n",
    "        Student.counter += 1\n",
    "        \n",
    "    def login(self, user_name, password):#Method/Action/Function\n",
    "        self.user = user_name\n",
    "        print(\"welcome \", self.user)\n",
    "    \n",
    "    def logout(self):\n",
    "        pass\n",
    "    \n",
    "    def quiz_attemp(self):\n",
    "        pass\n",
    "    \n",
    "    def attendance_mark(self):\n",
    "        pass\n",
    "    \n",
    "\n",
    "        \n",
    "        \n",
    "\n",
    "s1 = Student(1) # counter 1\n",
    "s2 = Student(2) # counter 2\n",
    "s3 = Student(100) # counter 3\n",
    "\n",
    "s1.counter"
   ]
  },
  {
   "cell_type": "code",
   "execution_count": 21,
   "metadata": {},
   "outputs": [
    {
     "data": {
      "text/plain": [
       "3"
      ]
     },
     "execution_count": 21,
     "metadata": {},
     "output_type": "execute_result"
    }
   ],
   "source": [
    "Student.counter"
   ]
  },
  {
   "cell_type": "code",
   "execution_count": 30,
   "metadata": {},
   "outputs": [
    {
     "name": "stdout",
     "output_type": "stream",
     "text": [
      "welcome  Qasim\n"
     ]
    }
   ],
   "source": [
    "s1.login(\"Qasim\",\"123\")"
   ]
  },
  {
   "cell_type": "code",
   "execution_count": 23,
   "metadata": {},
   "outputs": [
    {
     "name": "stdout",
     "output_type": "stream",
     "text": [
      "abcd\n"
     ]
    }
   ],
   "source": [
    "s1.DOB = \"abcd\"\n",
    "print(s1.DOB)"
   ]
  },
  {
   "cell_type": "code",
   "execution_count": 25,
   "metadata": {},
   "outputs": [],
   "source": [
    "del s1.DOB"
   ]
  },
  {
   "cell_type": "markdown",
   "metadata": {},
   "source": [
    "# Inheritance"
   ]
  },
  {
   "cell_type": "code",
   "execution_count": 32,
   "metadata": {},
   "outputs": [],
   "source": [
    "class Parent():\n",
    "    def __init__(self):\n",
    "        self.name = \"\"\n",
    "        self.fname = \"\"\n",
    "    \n",
    "    def speak(self, words=\"\"):\n",
    "        print(words,\"...\")\n",
    "    \n",
    "    def eat(self, food=\"roti\"):\n",
    "        print(food)\n",
    "      \n",
    "\n",
    "class Child(Parent):\n",
    "    pass"
   ]
  },
  {
   "cell_type": "code",
   "execution_count": 34,
   "metadata": {},
   "outputs": [
    {
     "name": "stdout",
     "output_type": "stream",
     "text": [
      "ABC\n"
     ]
    },
    {
     "data": {
      "text/plain": [
       "''"
      ]
     },
     "execution_count": 34,
     "metadata": {},
     "output_type": "execute_result"
    }
   ],
   "source": [
    "p_obj1 = Parent()\n",
    "p_obj1.name = \"ABC\"\n",
    "print(p_obj1.name)"
   ]
  },
  {
   "cell_type": "code",
   "execution_count": 36,
   "metadata": {},
   "outputs": [
    {
     "name": "stdout",
     "output_type": "stream",
     "text": [
      "Pakistan zinda bad ...\n"
     ]
    }
   ],
   "source": [
    "c_obj1 = Child()\n",
    "c_obj1.speak(\"Pakistan zinda bad\")"
   ]
  },
  {
   "cell_type": "code",
   "execution_count": 39,
   "metadata": {},
   "outputs": [
    {
     "name": "stdout",
     "output_type": "stream",
     "text": [
      "FL\n"
     ]
    }
   ],
   "source": [
    "class Father():\n",
    "    def __init__(self):\n",
    "        self.sound = \"Fs\"\n",
    "        self.eye_color = \"Brown\"\n",
    "        \n",
    "    def speak(self):\n",
    "        print(\"Father Voice\")\n",
    "    \n",
    "    def listing(self):\n",
    "        print(\"FL\")\n",
    "    \n",
    "class Mother():\n",
    "    def __init__(self):\n",
    "        self.face = \"Mother\"\n",
    "        self.hair_color = \"Black\"\n",
    "        \n",
    "    def listing(self):\n",
    "        print(\"ML\")\n",
    "    \n",
    "    def abc(self):\n",
    "        print(\"MABC\")\n",
    "        \n",
    "class Child(Father, Mother):\n",
    "    pass\n",
    "\n",
    "asif = Child()\n",
    "asif.listing()"
   ]
  },
  {
   "cell_type": "markdown",
   "metadata": {},
   "source": [
    "# Polymorphism"
   ]
  },
  {
   "cell_type": "markdown",
   "metadata": {},
   "source": [
    "### Overloading"
   ]
  },
  {
   "cell_type": "code",
   "execution_count": 45,
   "metadata": {},
   "outputs": [
    {
     "name": "stdout",
     "output_type": "stream",
     "text": [
      "1\n",
      "10\n"
     ]
    }
   ],
   "source": [
    "class A():\n",
    "    \n",
    "    def abc(self,*n):\n",
    "        print(sum(n))\n",
    "\n",
    "obj1 = A()\n",
    "obj1.abc(1)\n",
    "obj1.abc(1,3,2,4)"
   ]
  },
  {
   "cell_type": "markdown",
   "metadata": {},
   "source": [
    "# Over Riding"
   ]
  },
  {
   "cell_type": "code",
   "execution_count": 47,
   "metadata": {},
   "outputs": [
    {
     "name": "stdout",
     "output_type": "stream",
     "text": [
      "Speak Function Class B\n"
     ]
    }
   ],
   "source": [
    "class A():\n",
    "    def speak(self):\n",
    "        print(\"Speak Function Class A\")\n",
    "        \n",
    "        \n",
    "class B(A):\n",
    "    def speak(self): # Over Riding\n",
    "        print(\"Speak Function Class B\")\n",
    "        \n",
    "obj1 = B()        \n",
    "obj1.speak()"
   ]
  },
  {
   "cell_type": "code",
   "execution_count": null,
   "metadata": {},
   "outputs": [],
   "source": [
    "# "
   ]
  }
 ],
 "metadata": {
  "kernelspec": {
   "display_name": "Python 3",
   "language": "python",
   "name": "python3"
  },
  "language_info": {
   "codemirror_mode": {
    "name": "ipython",
    "version": 3
   },
   "file_extension": ".py",
   "mimetype": "text/x-python",
   "name": "python",
   "nbconvert_exporter": "python",
   "pygments_lexer": "ipython3",
   "version": "3.7.1"
  }
 },
 "nbformat": 4,
 "nbformat_minor": 2
}
